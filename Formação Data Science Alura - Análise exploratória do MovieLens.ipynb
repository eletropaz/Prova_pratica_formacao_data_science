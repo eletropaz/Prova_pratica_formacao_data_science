{
 "cells": [
  {
   "cell_type": "markdown",
   "metadata": {},
   "source": [
    "## Pergunta: Coloque um cabeçalho nesse notebook com o seu nome e resumindo o que descobriu ao explorar esses dados"
   ]
  },
  {
   "cell_type": "markdown",
   "metadata": {},
   "source": [
    "# Fernando Silva Paz - Com a análise desses dados é perceptível que não podemos confiar tão somente em medidas de resumo, como Moda e Mediana, para uma correta interpretação dos dados. Elementos como quantidade de amostras e intervalos de confiança são essenciais para uma correta interpretação"
   ]
  },
  {
   "cell_type": "markdown",
   "metadata": {},
   "source": [
    "## Formação Data Science Alura - Análise exploratória do MovieLens\n",
    "\n",
    "Na formação de Data Scienda www.alura.com.br um dos conjuntos de dados que utilizamos é o de avaliações para filmes no site MovieLens. Neste projeto faremos uma análise exploratória desses dados."
   ]
  },
  {
   "cell_type": "markdown",
   "metadata": {},
   "source": [
    "### Dicas para o projeto completo:\n",
    "\n",
    "- todo gráfico deve ter um título, labels e legendas que fazem sentido\n",
    "- configure um tamanho adequado para os gráficos\n",
    "- utilize as versões dos arquivos de dados disponíveis no github"
   ]
  },
  {
   "cell_type": "markdown",
   "metadata": {},
   "source": [
    "## Pergunta: conferindo as versões utilizadas\n",
    "\n",
    "- Devemos usar pandas 0.24.0 ou mais recente\n",
    "- Devemos usar seaborn 0.9.0 ou mais recente\n",
    "- Devemos usar scipy 1.2.0 ou mais recente"
   ]
  },
  {
   "cell_type": "code",
   "execution_count": 1,
   "metadata": {},
   "outputs": [],
   "source": [
    "!pip install pandas==\"0.24.0\" --quiet\n",
    "!pip install seaborn==\"0.9.0\" --quiet\n",
    "!pip install scipy==\"1.2.0\" --quiet"
   ]
  },
  {
   "cell_type": "code",
   "execution_count": 2,
   "metadata": {},
   "outputs": [
    {
     "name": "stdout",
     "output_type": "stream",
     "text": [
      "Usando pandas 0.24.0\n",
      "Usando seaborn 0.9.0\n",
      "Usando scipy 1.2.0\n"
     ]
    }
   ],
   "source": [
    "import pandas as pd\n",
    "import seaborn as sns\n",
    "import scipy\n",
    "\n",
    "print(\"Usando pandas %s\" % pd.__version__)\n",
    "print(\"Usando seaborn %s\" % sns.__version__)\n",
    "print(\"Usando scipy %s\" % scipy.__version__)"
   ]
  },
  {
   "cell_type": "markdown",
   "metadata": {},
   "source": [
    "## Pergunta: carregue os filmes\n",
    "\n",
    "- os dados `https://raw.githubusercontent.com/alura-cursos/formacao-data-science/master/movies.csv` devem ser carregado em `filmes`\n",
    "- renomeie as colunas para `filmeId`, `titulo` e `generos`\n",
    "- configure o indice (`index`) para ser o `filmeId`"
   ]
  },
  {
   "cell_type": "code",
   "execution_count": 3,
   "metadata": {},
   "outputs": [],
   "source": [
    "# solução\n",
    "filmes = pd.read_csv(\"https://raw.githubusercontent.com/alura-cursos/formacao-data-science/master/movies.csv\", header=0, names = ['filmeId', 'titulo', 'generos'],  index_col = ['filmeId'])"
   ]
  },
  {
   "cell_type": "code",
   "execution_count": 4,
   "metadata": {},
   "outputs": [
    {
     "data": {
      "text/html": [
       "<div>\n",
       "<style scoped>\n",
       "    .dataframe tbody tr th:only-of-type {\n",
       "        vertical-align: middle;\n",
       "    }\n",
       "\n",
       "    .dataframe tbody tr th {\n",
       "        vertical-align: top;\n",
       "    }\n",
       "\n",
       "    .dataframe thead th {\n",
       "        text-align: right;\n",
       "    }\n",
       "</style>\n",
       "<table border=\"1\" class=\"dataframe\">\n",
       "  <thead>\n",
       "    <tr style=\"text-align: right;\">\n",
       "      <th></th>\n",
       "      <th>titulo</th>\n",
       "      <th>generos</th>\n",
       "    </tr>\n",
       "    <tr>\n",
       "      <th>filmeId</th>\n",
       "      <th></th>\n",
       "      <th></th>\n",
       "    </tr>\n",
       "  </thead>\n",
       "  <tbody>\n",
       "    <tr>\n",
       "      <th>1</th>\n",
       "      <td>Toy Story (1995)</td>\n",
       "      <td>Adventure|Animation|Children|Comedy|Fantasy</td>\n",
       "    </tr>\n",
       "    <tr>\n",
       "      <th>2</th>\n",
       "      <td>Jumanji (1995)</td>\n",
       "      <td>Adventure|Children|Fantasy</td>\n",
       "    </tr>\n",
       "    <tr>\n",
       "      <th>3</th>\n",
       "      <td>Grumpier Old Men (1995)</td>\n",
       "      <td>Comedy|Romance</td>\n",
       "    </tr>\n",
       "    <tr>\n",
       "      <th>4</th>\n",
       "      <td>Waiting to Exhale (1995)</td>\n",
       "      <td>Comedy|Drama|Romance</td>\n",
       "    </tr>\n",
       "    <tr>\n",
       "      <th>5</th>\n",
       "      <td>Father of the Bride Part II (1995)</td>\n",
       "      <td>Comedy</td>\n",
       "    </tr>\n",
       "  </tbody>\n",
       "</table>\n",
       "</div>"
      ],
      "text/plain": [
       "                                     titulo  \\\n",
       "filmeId                                       \n",
       "1                          Toy Story (1995)   \n",
       "2                            Jumanji (1995)   \n",
       "3                   Grumpier Old Men (1995)   \n",
       "4                  Waiting to Exhale (1995)   \n",
       "5        Father of the Bride Part II (1995)   \n",
       "\n",
       "                                             generos  \n",
       "filmeId                                               \n",
       "1        Adventure|Animation|Children|Comedy|Fantasy  \n",
       "2                         Adventure|Children|Fantasy  \n",
       "3                                     Comedy|Romance  \n",
       "4                               Comedy|Drama|Romance  \n",
       "5                                             Comedy  "
      ]
     },
     "execution_count": 4,
     "metadata": {},
     "output_type": "execute_result"
    }
   ],
   "source": [
    "filmes.head()"
   ]
  },
  {
   "cell_type": "code",
   "execution_count": 5,
   "metadata": {
    "scrolled": true
   },
   "outputs": [
    {
     "name": "stdout",
     "output_type": "stream",
     "text": [
      "Carregamos 9742 filmes\n"
     ]
    }
   ],
   "source": [
    "print(\"Carregamos %d filmes\" % len(filmes))\n",
    "if(len(filmes) != 9742):\n",
    "    print(\"ERRO! O conjunto de dados que estamos trabalhando nesse projeto possui 9742 elementos.\")"
   ]
  },
  {
   "cell_type": "markdown",
   "metadata": {},
   "source": [
    "Vamos extrair o ano dos filmes (código já pronto): "
   ]
  },
  {
   "cell_type": "code",
   "execution_count": 6,
   "metadata": {},
   "outputs": [
    {
     "data": {
      "text/html": [
       "<div>\n",
       "<style scoped>\n",
       "    .dataframe tbody tr th:only-of-type {\n",
       "        vertical-align: middle;\n",
       "    }\n",
       "\n",
       "    .dataframe tbody tr th {\n",
       "        vertical-align: top;\n",
       "    }\n",
       "\n",
       "    .dataframe thead th {\n",
       "        text-align: right;\n",
       "    }\n",
       "</style>\n",
       "<table border=\"1\" class=\"dataframe\">\n",
       "  <thead>\n",
       "    <tr style=\"text-align: right;\">\n",
       "      <th></th>\n",
       "      <th>titulo</th>\n",
       "      <th>generos</th>\n",
       "      <th>ano_de_lancamento</th>\n",
       "    </tr>\n",
       "    <tr>\n",
       "      <th>filmeId</th>\n",
       "      <th></th>\n",
       "      <th></th>\n",
       "      <th></th>\n",
       "    </tr>\n",
       "  </thead>\n",
       "  <tbody>\n",
       "    <tr>\n",
       "      <th>1</th>\n",
       "      <td>Toy Story (1995)</td>\n",
       "      <td>Adventure|Animation|Children|Comedy|Fantasy</td>\n",
       "      <td>1995.0</td>\n",
       "    </tr>\n",
       "    <tr>\n",
       "      <th>2</th>\n",
       "      <td>Jumanji (1995)</td>\n",
       "      <td>Adventure|Children|Fantasy</td>\n",
       "      <td>1995.0</td>\n",
       "    </tr>\n",
       "    <tr>\n",
       "      <th>3</th>\n",
       "      <td>Grumpier Old Men (1995)</td>\n",
       "      <td>Comedy|Romance</td>\n",
       "      <td>1995.0</td>\n",
       "    </tr>\n",
       "    <tr>\n",
       "      <th>4</th>\n",
       "      <td>Waiting to Exhale (1995)</td>\n",
       "      <td>Comedy|Drama|Romance</td>\n",
       "      <td>1995.0</td>\n",
       "    </tr>\n",
       "    <tr>\n",
       "      <th>5</th>\n",
       "      <td>Father of the Bride Part II (1995)</td>\n",
       "      <td>Comedy</td>\n",
       "      <td>1995.0</td>\n",
       "    </tr>\n",
       "  </tbody>\n",
       "</table>\n",
       "</div>"
      ],
      "text/plain": [
       "                                     titulo  \\\n",
       "filmeId                                       \n",
       "1                          Toy Story (1995)   \n",
       "2                            Jumanji (1995)   \n",
       "3                   Grumpier Old Men (1995)   \n",
       "4                  Waiting to Exhale (1995)   \n",
       "5        Father of the Bride Part II (1995)   \n",
       "\n",
       "                                             generos  ano_de_lancamento  \n",
       "filmeId                                                                  \n",
       "1        Adventure|Animation|Children|Comedy|Fantasy             1995.0  \n",
       "2                         Adventure|Children|Fantasy             1995.0  \n",
       "3                                     Comedy|Romance             1995.0  \n",
       "4                               Comedy|Drama|Romance             1995.0  \n",
       "5                                             Comedy             1995.0  "
      ]
     },
     "execution_count": 6,
     "metadata": {},
     "output_type": "execute_result"
    }
   ],
   "source": [
    "ano_de_lancamento = filmes.titulo.str.extract(\"\\((\\d{4})\\)\")\n",
    "filmes['ano_de_lancamento'] = ano_de_lancamento.astype(float)\n",
    "filmes.head()"
   ]
  },
  {
   "cell_type": "markdown",
   "metadata": {},
   "source": [
    "## Pergunta: carregando as notas\n",
    "\n",
    "- os dados `https://raw.githubusercontent.com/alura-cursos/formacao-data-science/master/ratings.csv` devem ser carregado em `notas`\n",
    "- renomeie as colunas para `usuarioId`, `filmeId`, `nota` e `momento`"
   ]
  },
  {
   "cell_type": "code",
   "execution_count": 7,
   "metadata": {
    "scrolled": true
   },
   "outputs": [],
   "source": [
    "# solução\n",
    "notas = pd.read_csv('https://raw.githubusercontent.com/alura-cursos/formacao-data-science/master/ratings.csv', header=0, names = ['usuarioId', 'filmeId', 'nota', 'momento'])"
   ]
  },
  {
   "cell_type": "code",
   "execution_count": 8,
   "metadata": {},
   "outputs": [
    {
     "data": {
      "text/html": [
       "<div>\n",
       "<style scoped>\n",
       "    .dataframe tbody tr th:only-of-type {\n",
       "        vertical-align: middle;\n",
       "    }\n",
       "\n",
       "    .dataframe tbody tr th {\n",
       "        vertical-align: top;\n",
       "    }\n",
       "\n",
       "    .dataframe thead th {\n",
       "        text-align: right;\n",
       "    }\n",
       "</style>\n",
       "<table border=\"1\" class=\"dataframe\">\n",
       "  <thead>\n",
       "    <tr style=\"text-align: right;\">\n",
       "      <th></th>\n",
       "      <th>usuarioId</th>\n",
       "      <th>filmeId</th>\n",
       "      <th>nota</th>\n",
       "      <th>momento</th>\n",
       "    </tr>\n",
       "  </thead>\n",
       "  <tbody>\n",
       "    <tr>\n",
       "      <th>0</th>\n",
       "      <td>1</td>\n",
       "      <td>1</td>\n",
       "      <td>4.0</td>\n",
       "      <td>964982703</td>\n",
       "    </tr>\n",
       "    <tr>\n",
       "      <th>1</th>\n",
       "      <td>1</td>\n",
       "      <td>3</td>\n",
       "      <td>4.0</td>\n",
       "      <td>964981247</td>\n",
       "    </tr>\n",
       "    <tr>\n",
       "      <th>2</th>\n",
       "      <td>1</td>\n",
       "      <td>6</td>\n",
       "      <td>4.0</td>\n",
       "      <td>964982224</td>\n",
       "    </tr>\n",
       "    <tr>\n",
       "      <th>3</th>\n",
       "      <td>1</td>\n",
       "      <td>47</td>\n",
       "      <td>5.0</td>\n",
       "      <td>964983815</td>\n",
       "    </tr>\n",
       "    <tr>\n",
       "      <th>4</th>\n",
       "      <td>1</td>\n",
       "      <td>50</td>\n",
       "      <td>5.0</td>\n",
       "      <td>964982931</td>\n",
       "    </tr>\n",
       "  </tbody>\n",
       "</table>\n",
       "</div>"
      ],
      "text/plain": [
       "   usuarioId  filmeId  nota    momento\n",
       "0          1        1   4.0  964982703\n",
       "1          1        3   4.0  964981247\n",
       "2          1        6   4.0  964982224\n",
       "3          1       47   5.0  964983815\n",
       "4          1       50   5.0  964982931"
      ]
     },
     "execution_count": 8,
     "metadata": {},
     "output_type": "execute_result"
    }
   ],
   "source": [
    "notas.head()"
   ]
  },
  {
   "cell_type": "markdown",
   "metadata": {},
   "source": [
    "## Pergunta: gere uma nova feature, a média dos votos por filme\n",
    "\n",
    "- crie uma nova coluna chamada `nota_media` dentro do dataframe `filmes`\n",
    "\n",
    "Dicas:\n",
    "- como filmeId já é o indice de seu dataframe filmes, se você possui uma série com o número de votos por filme, basta atribuir uma nova coluna normalmente que será usado o mesmo índice"
   ]
  },
  {
   "cell_type": "code",
   "execution_count": 9,
   "metadata": {},
   "outputs": [],
   "source": [
    "# solução\n",
    "filmes['nota_media'] = notas.groupby(\"filmeId\").mean()[\"nota\"]"
   ]
  },
  {
   "cell_type": "code",
   "execution_count": 10,
   "metadata": {},
   "outputs": [
    {
     "data": {
      "text/html": [
       "<div>\n",
       "<style scoped>\n",
       "    .dataframe tbody tr th:only-of-type {\n",
       "        vertical-align: middle;\n",
       "    }\n",
       "\n",
       "    .dataframe tbody tr th {\n",
       "        vertical-align: top;\n",
       "    }\n",
       "\n",
       "    .dataframe thead th {\n",
       "        text-align: right;\n",
       "    }\n",
       "</style>\n",
       "<table border=\"1\" class=\"dataframe\">\n",
       "  <thead>\n",
       "    <tr style=\"text-align: right;\">\n",
       "      <th></th>\n",
       "      <th>titulo</th>\n",
       "      <th>generos</th>\n",
       "      <th>ano_de_lancamento</th>\n",
       "      <th>nota_media</th>\n",
       "    </tr>\n",
       "    <tr>\n",
       "      <th>filmeId</th>\n",
       "      <th></th>\n",
       "      <th></th>\n",
       "      <th></th>\n",
       "      <th></th>\n",
       "    </tr>\n",
       "  </thead>\n",
       "  <tbody>\n",
       "    <tr>\n",
       "      <th>1</th>\n",
       "      <td>Toy Story (1995)</td>\n",
       "      <td>Adventure|Animation|Children|Comedy|Fantasy</td>\n",
       "      <td>1995.0</td>\n",
       "      <td>3.920930</td>\n",
       "    </tr>\n",
       "    <tr>\n",
       "      <th>2</th>\n",
       "      <td>Jumanji (1995)</td>\n",
       "      <td>Adventure|Children|Fantasy</td>\n",
       "      <td>1995.0</td>\n",
       "      <td>3.431818</td>\n",
       "    </tr>\n",
       "    <tr>\n",
       "      <th>3</th>\n",
       "      <td>Grumpier Old Men (1995)</td>\n",
       "      <td>Comedy|Romance</td>\n",
       "      <td>1995.0</td>\n",
       "      <td>3.259615</td>\n",
       "    </tr>\n",
       "    <tr>\n",
       "      <th>4</th>\n",
       "      <td>Waiting to Exhale (1995)</td>\n",
       "      <td>Comedy|Drama|Romance</td>\n",
       "      <td>1995.0</td>\n",
       "      <td>2.357143</td>\n",
       "    </tr>\n",
       "    <tr>\n",
       "      <th>5</th>\n",
       "      <td>Father of the Bride Part II (1995)</td>\n",
       "      <td>Comedy</td>\n",
       "      <td>1995.0</td>\n",
       "      <td>3.071429</td>\n",
       "    </tr>\n",
       "  </tbody>\n",
       "</table>\n",
       "</div>"
      ],
      "text/plain": [
       "                                     titulo  \\\n",
       "filmeId                                       \n",
       "1                          Toy Story (1995)   \n",
       "2                            Jumanji (1995)   \n",
       "3                   Grumpier Old Men (1995)   \n",
       "4                  Waiting to Exhale (1995)   \n",
       "5        Father of the Bride Part II (1995)   \n",
       "\n",
       "                                             generos  ano_de_lancamento  \\\n",
       "filmeId                                                                   \n",
       "1        Adventure|Animation|Children|Comedy|Fantasy             1995.0   \n",
       "2                         Adventure|Children|Fantasy             1995.0   \n",
       "3                                     Comedy|Romance             1995.0   \n",
       "4                               Comedy|Drama|Romance             1995.0   \n",
       "5                                             Comedy             1995.0   \n",
       "\n",
       "         nota_media  \n",
       "filmeId              \n",
       "1          3.920930  \n",
       "2          3.431818  \n",
       "3          3.259615  \n",
       "4          2.357143  \n",
       "5          3.071429  "
      ]
     },
     "execution_count": 10,
     "metadata": {},
     "output_type": "execute_result"
    }
   ],
   "source": [
    "filmes.head()"
   ]
  },
  {
   "cell_type": "markdown",
   "metadata": {},
   "source": [
    "## Pergunta: remova os filmes com menos de 50 avaliações\n",
    "\n",
    "- conte o número de notas por filme\n",
    "- adicione uma coluna nova chamada `total_de_notas` a `filmes` que representa o número de avaliações que aquele filme teve no conjunto de dados\n",
    "- remova os que tem 49 ou menos de `filmes`"
   ]
  },
  {
   "cell_type": "markdown",
   "metadata": {},
   "source": [
    "## Solução"
   ]
  },
  {
   "cell_type": "code",
   "execution_count": 11,
   "metadata": {},
   "outputs": [
    {
     "data": {
      "text/plain": [
       "filmeId\n",
       "1    215\n",
       "2    110\n",
       "3     52\n",
       "4      7\n",
       "5     49\n",
       "Name: nota, dtype: int64"
      ]
     },
     "execution_count": 11,
     "metadata": {},
     "output_type": "execute_result"
    }
   ],
   "source": [
    "# solução para calcular o total de votos por filme\n",
    "qte_notas_filme = notas.groupby('filmeId').count()\n",
    "qte_notas_filme['nota'].head()"
   ]
  },
  {
   "cell_type": "code",
   "execution_count": 12,
   "metadata": {},
   "outputs": [],
   "source": [
    "# solução para criar a nova coluna e filtrar os filmes\n",
    "filmes['total_de_votos'] = qte_notas_filme['nota']\n",
    "selecao = filmes['total_de_votos'] > 49\n",
    "filmes = filmes[selecao]"
   ]
  },
  {
   "cell_type": "code",
   "execution_count": 13,
   "metadata": {},
   "outputs": [
    {
     "data": {
      "text/html": [
       "<div>\n",
       "<style scoped>\n",
       "    .dataframe tbody tr th:only-of-type {\n",
       "        vertical-align: middle;\n",
       "    }\n",
       "\n",
       "    .dataframe tbody tr th {\n",
       "        vertical-align: top;\n",
       "    }\n",
       "\n",
       "    .dataframe thead th {\n",
       "        text-align: right;\n",
       "    }\n",
       "</style>\n",
       "<table border=\"1\" class=\"dataframe\">\n",
       "  <thead>\n",
       "    <tr style=\"text-align: right;\">\n",
       "      <th></th>\n",
       "      <th>titulo</th>\n",
       "      <th>generos</th>\n",
       "      <th>ano_de_lancamento</th>\n",
       "      <th>nota_media</th>\n",
       "      <th>total_de_votos</th>\n",
       "    </tr>\n",
       "    <tr>\n",
       "      <th>filmeId</th>\n",
       "      <th></th>\n",
       "      <th></th>\n",
       "      <th></th>\n",
       "      <th></th>\n",
       "      <th></th>\n",
       "    </tr>\n",
       "  </thead>\n",
       "  <tbody>\n",
       "    <tr>\n",
       "      <th>1</th>\n",
       "      <td>Toy Story (1995)</td>\n",
       "      <td>Adventure|Animation|Children|Comedy|Fantasy</td>\n",
       "      <td>1995.0</td>\n",
       "      <td>3.920930</td>\n",
       "      <td>215.0</td>\n",
       "    </tr>\n",
       "    <tr>\n",
       "      <th>2</th>\n",
       "      <td>Jumanji (1995)</td>\n",
       "      <td>Adventure|Children|Fantasy</td>\n",
       "      <td>1995.0</td>\n",
       "      <td>3.431818</td>\n",
       "      <td>110.0</td>\n",
       "    </tr>\n",
       "    <tr>\n",
       "      <th>3</th>\n",
       "      <td>Grumpier Old Men (1995)</td>\n",
       "      <td>Comedy|Romance</td>\n",
       "      <td>1995.0</td>\n",
       "      <td>3.259615</td>\n",
       "      <td>52.0</td>\n",
       "    </tr>\n",
       "    <tr>\n",
       "      <th>6</th>\n",
       "      <td>Heat (1995)</td>\n",
       "      <td>Action|Crime|Thriller</td>\n",
       "      <td>1995.0</td>\n",
       "      <td>3.946078</td>\n",
       "      <td>102.0</td>\n",
       "    </tr>\n",
       "    <tr>\n",
       "      <th>7</th>\n",
       "      <td>Sabrina (1995)</td>\n",
       "      <td>Comedy|Romance</td>\n",
       "      <td>1995.0</td>\n",
       "      <td>3.185185</td>\n",
       "      <td>54.0</td>\n",
       "    </tr>\n",
       "  </tbody>\n",
       "</table>\n",
       "</div>"
      ],
      "text/plain": [
       "                          titulo                                      generos  \\\n",
       "filmeId                                                                         \n",
       "1               Toy Story (1995)  Adventure|Animation|Children|Comedy|Fantasy   \n",
       "2                 Jumanji (1995)                   Adventure|Children|Fantasy   \n",
       "3        Grumpier Old Men (1995)                               Comedy|Romance   \n",
       "6                    Heat (1995)                        Action|Crime|Thriller   \n",
       "7                 Sabrina (1995)                               Comedy|Romance   \n",
       "\n",
       "         ano_de_lancamento  nota_media  total_de_votos  \n",
       "filmeId                                                 \n",
       "1                   1995.0    3.920930           215.0  \n",
       "2                   1995.0    3.431818           110.0  \n",
       "3                   1995.0    3.259615            52.0  \n",
       "6                   1995.0    3.946078           102.0  \n",
       "7                   1995.0    3.185185            54.0  "
      ]
     },
     "execution_count": 13,
     "metadata": {},
     "output_type": "execute_result"
    }
   ],
   "source": [
    "filmes.head()"
   ]
  },
  {
   "cell_type": "markdown",
   "metadata": {},
   "source": [
    "# Visualizando os dados gerais"
   ]
  },
  {
   "cell_type": "markdown",
   "metadata": {},
   "source": [
    "## Pergunta: Visualize as notas médias\n",
    "\n",
    "- histograma\n",
    "- cummulative distribution function\n",
    "\n",
    "Dicas:\n",
    "\n",
    "- lembre-se de colocar um título nas imagens além de nomes nos eixos x e y\n",
    "- para gerar a versão cumulativa lembre-se de usar os parâmetros `hist_kws` e `kde_kws` para definir `'cumulative'=True`"
   ]
  },
  {
   "cell_type": "code",
   "execution_count": 14,
   "metadata": {},
   "outputs": [
    {
     "data": {
      "text/plain": [
       "Text(0.5, 1.0, 'Média das notas dos filmes do MovieLens')"
      ]
     },
     "execution_count": 14,
     "metadata": {},
     "output_type": "execute_result"
    },
    {
     "data": {
      "image/png": "[encoded data removed]",
      "text/plain": [
       "<Figure size 432x288 with 1 Axes>"
      ]
     },
     "metadata": {
      "needs_background": "light"
     },
     "output_type": "display_data"
    }
   ],
   "source": [
    "# solução histograma\n",
    "ax = sns.distplot(filmes['nota_media'])\n",
    "ax.set(xlabel = 'Nota Média', ylabel = 'Densidade')\n",
    "ax.set_title('Média das notas dos filmes do MovieLens')"
   ]
  },
  {
   "cell_type": "code",
   "execution_count": 15,
   "metadata": {},
   "outputs": [
    {
     "data": {
      "text/plain": [
       "Text(0.5, 1.0, 'Média das notas dos filmes do MovieLens')"
      ]
     },
     "execution_count": 15,
     "metadata": {},
     "output_type": "execute_result"
    },
    {
     "data": {
      "image/png": "[encoded data removed]",
      "text/plain": [
       "<Figure size 432x288 with 1 Axes>"
      ]
     },
     "metadata": {
      "needs_background": "light"
     },
     "output_type": "display_data"
    }
   ],
   "source": [
    "# solução cumulativa\n",
    "ax = sns.distplot(filmes['nota_media'],\n",
    "                     hist_kws = {'cumulative': True},\n",
    "                     kde_kws = {'cumulative': True})\n",
    "ax.set(xlabel = 'Nota Média', ylabel = '% acumulada de filmes')\n",
    "ax.set_title('Média das notas dos filmes do MovieLens')"
   ]
  },
  {
   "cell_type": "markdown",
   "metadata": {},
   "source": [
    "## Pergunta: Visualize o total de votos\n",
    "\n",
    "- histograma\n",
    "- cummulative distribution function"
   ]
  },
  {
   "cell_type": "code",
   "execution_count": 16,
   "metadata": {},
   "outputs": [
    {
     "data": {
      "text/plain": [
       "Text(0.5, 1.0, 'Média das notas dos filmes do MovieLens')"
      ]
     },
     "execution_count": 16,
     "metadata": {},
     "output_type": "execute_result"
    },
    {
     "data": {
      "image/png": "[encoded data removed]",
      "text/plain": [
       "<Figure size 432x288 with 1 Axes>"
      ]
     },
     "metadata": {
      "needs_background": "light"
     },
     "output_type": "display_data"
    }
   ],
   "source": [
    "# solução histograma\n",
    "ax = sns.distplot(filmes['nota_media'], kde = False, norm_hist = False)\n",
    "ax.set(xlabel = 'Nota Média', ylabel = 'Frequência')\n",
    "ax.set_title('Média das notas dos filmes do MovieLens')"
   ]
  },
  {
   "cell_type": "code",
   "execution_count": 17,
   "metadata": {},
   "outputs": [
    {
     "data": {
      "text/plain": [
       "Text(0.5, 1.0, 'Média das notas dos filmes do MovieLens')"
      ]
     },
     "execution_count": 17,
     "metadata": {},
     "output_type": "execute_result"
    },
    {
     "data": {
      "image/png": "[encoded data removed]",
      "text/plain": [
       "<Figure size 432x288 with 1 Axes>"
      ]
     },
     "metadata": {
      "needs_background": "light"
     },
     "output_type": "display_data"
    }
   ],
   "source": [
    "# solução cumulativa\n",
    "ax = sns.distplot(filmes['nota_media'], norm_hist = False, kde = False,\n",
    "                     hist_kws = {'cumulative': True},\n",
    "                     kde_kws = {'cumulative': True})\n",
    "ax.set(xlabel = 'Nota Média', ylabel = 'Quantidade acumulada de filmes')\n",
    "ax.set_title('Média das notas dos filmes do MovieLens')"
   ]
  },
  {
   "cell_type": "markdown",
   "metadata": {},
   "source": [
    "## Pergunta: 20% dos filmes do dataframe tem nota maior que? \n",
    "\n",
    "- lembre-se da função `quantile` do pandas"
   ]
  },
  {
   "cell_type": "code",
   "execution_count": 18,
   "metadata": {},
   "outputs": [],
   "source": [
    "# solução\n",
    "nota_limite_dos_20_porcento = filmes['nota_media'].quantile(0.8)"
   ]
  },
  {
   "cell_type": "code",
   "execution_count": 19,
   "metadata": {},
   "outputs": [
    {
     "name": "stdout",
     "output_type": "stream",
     "text": [
      "20 porcento dos filmes tem nota maior que de 3.99\n"
     ]
    }
   ],
   "source": [
    "print(\"20 porcento dos filmes tem nota maior que de %.2f\" % nota_limite_dos_20_porcento)"
   ]
  },
  {
   "cell_type": "markdown",
   "metadata": {},
   "source": [
    "## Vamos separar a coluna `generos` em diversas colunas.\n",
    "\n",
    "- O código já está pronto."
   ]
  },
  {
   "cell_type": "code",
   "execution_count": 20,
   "metadata": {},
   "outputs": [
    {
     "name": "stdout",
     "output_type": "stream",
     "text": [
      "Temos 19 generos distintos\n"
     ]
    }
   ],
   "source": [
    "filmes['generos'] = filmes['generos'].str.replace('-', '')\n",
    "generos = filmes['generos'].str.get_dummies()\n",
    "print(\"Temos %d generos distintos\" % generos.shape[1])"
   ]
  },
  {
   "cell_type": "code",
   "execution_count": 21,
   "metadata": {},
   "outputs": [
    {
     "data": {
      "text/html": [
       "<div>\n",
       "<style scoped>\n",
       "    .dataframe tbody tr th:only-of-type {\n",
       "        vertical-align: middle;\n",
       "    }\n",
       "\n",
       "    .dataframe tbody tr th {\n",
       "        vertical-align: top;\n",
       "    }\n",
       "\n",
       "    .dataframe thead th {\n",
       "        text-align: right;\n",
       "    }\n",
       "</style>\n",
       "<table border=\"1\" class=\"dataframe\">\n",
       "  <thead>\n",
       "    <tr style=\"text-align: right;\">\n",
       "      <th></th>\n",
       "      <th>titulo</th>\n",
       "      <th>ano_de_lancamento</th>\n",
       "      <th>nota_media</th>\n",
       "      <th>total_de_votos</th>\n",
       "      <th>Action</th>\n",
       "      <th>Adventure</th>\n",
       "      <th>Animation</th>\n",
       "      <th>Children</th>\n",
       "      <th>Comedy</th>\n",
       "      <th>Crime</th>\n",
       "      <th>...</th>\n",
       "      <th>FilmNoir</th>\n",
       "      <th>Horror</th>\n",
       "      <th>IMAX</th>\n",
       "      <th>Musical</th>\n",
       "      <th>Mystery</th>\n",
       "      <th>Romance</th>\n",
       "      <th>SciFi</th>\n",
       "      <th>Thriller</th>\n",
       "      <th>War</th>\n",
       "      <th>Western</th>\n",
       "    </tr>\n",
       "    <tr>\n",
       "      <th>filmeId</th>\n",
       "      <th></th>\n",
       "      <th></th>\n",
       "      <th></th>\n",
       "      <th></th>\n",
       "      <th></th>\n",
       "      <th></th>\n",
       "      <th></th>\n",
       "      <th></th>\n",
       "      <th></th>\n",
       "      <th></th>\n",
       "      <th></th>\n",
       "      <th></th>\n",
       "      <th></th>\n",
       "      <th></th>\n",
       "      <th></th>\n",
       "      <th></th>\n",
       "      <th></th>\n",
       "      <th></th>\n",
       "      <th></th>\n",
       "      <th></th>\n",
       "      <th></th>\n",
       "    </tr>\n",
       "  </thead>\n",
       "  <tbody>\n",
       "    <tr>\n",
       "      <th>1</th>\n",
       "      <td>Toy Story (1995)</td>\n",
       "      <td>1995.0</td>\n",
       "      <td>3.920930</td>\n",
       "      <td>215.0</td>\n",
       "      <td>0</td>\n",
       "      <td>1</td>\n",
       "      <td>1</td>\n",
       "      <td>1</td>\n",
       "      <td>1</td>\n",
       "      <td>0</td>\n",
       "      <td>...</td>\n",
       "      <td>0</td>\n",
       "      <td>0</td>\n",
       "      <td>0</td>\n",
       "      <td>0</td>\n",
       "      <td>0</td>\n",
       "      <td>0</td>\n",
       "      <td>0</td>\n",
       "      <td>0</td>\n",
       "      <td>0</td>\n",
       "      <td>0</td>\n",
       "    </tr>\n",
       "    <tr>\n",
       "      <th>2</th>\n",
       "      <td>Jumanji (1995)</td>\n",
       "      <td>1995.0</td>\n",
       "      <td>3.431818</td>\n",
       "      <td>110.0</td>\n",
       "      <td>0</td>\n",
       "      <td>1</td>\n",
       "      <td>0</td>\n",
       "      <td>1</td>\n",
       "      <td>0</td>\n",
       "      <td>0</td>\n",
       "      <td>...</td>\n",
       "      <td>0</td>\n",
       "      <td>0</td>\n",
       "      <td>0</td>\n",
       "      <td>0</td>\n",
       "      <td>0</td>\n",
       "      <td>0</td>\n",
       "      <td>0</td>\n",
       "      <td>0</td>\n",
       "      <td>0</td>\n",
       "      <td>0</td>\n",
       "    </tr>\n",
       "    <tr>\n",
       "      <th>3</th>\n",
       "      <td>Grumpier Old Men (1995)</td>\n",
       "      <td>1995.0</td>\n",
       "      <td>3.259615</td>\n",
       "      <td>52.0</td>\n",
       "      <td>0</td>\n",
       "      <td>0</td>\n",
       "      <td>0</td>\n",
       "      <td>0</td>\n",
       "      <td>1</td>\n",
       "      <td>0</td>\n",
       "      <td>...</td>\n",
       "      <td>0</td>\n",
       "      <td>0</td>\n",
       "      <td>0</td>\n",
       "      <td>0</td>\n",
       "      <td>0</td>\n",
       "      <td>1</td>\n",
       "      <td>0</td>\n",
       "      <td>0</td>\n",
       "      <td>0</td>\n",
       "      <td>0</td>\n",
       "    </tr>\n",
       "    <tr>\n",
       "      <th>6</th>\n",
       "      <td>Heat (1995)</td>\n",
       "      <td>1995.0</td>\n",
       "      <td>3.946078</td>\n",
       "      <td>102.0</td>\n",
       "      <td>1</td>\n",
       "      <td>0</td>\n",
       "      <td>0</td>\n",
       "      <td>0</td>\n",
       "      <td>0</td>\n",
       "      <td>1</td>\n",
       "      <td>...</td>\n",
       "      <td>0</td>\n",
       "      <td>0</td>\n",
       "      <td>0</td>\n",
       "      <td>0</td>\n",
       "      <td>0</td>\n",
       "      <td>0</td>\n",
       "      <td>0</td>\n",
       "      <td>1</td>\n",
       "      <td>0</td>\n",
       "      <td>0</td>\n",
       "    </tr>\n",
       "    <tr>\n",
       "      <th>7</th>\n",
       "      <td>Sabrina (1995)</td>\n",
       "      <td>1995.0</td>\n",
       "      <td>3.185185</td>\n",
       "      <td>54.0</td>\n",
       "      <td>0</td>\n",
       "      <td>0</td>\n",
       "      <td>0</td>\n",
       "      <td>0</td>\n",
       "      <td>1</td>\n",
       "      <td>0</td>\n",
       "      <td>...</td>\n",
       "      <td>0</td>\n",
       "      <td>0</td>\n",
       "      <td>0</td>\n",
       "      <td>0</td>\n",
       "      <td>0</td>\n",
       "      <td>1</td>\n",
       "      <td>0</td>\n",
       "      <td>0</td>\n",
       "      <td>0</td>\n",
       "      <td>0</td>\n",
       "    </tr>\n",
       "  </tbody>\n",
       "</table>\n",
       "<p>5 rows × 23 columns</p>\n",
       "</div>"
      ],
      "text/plain": [
       "                          titulo  ano_de_lancamento  nota_media  \\\n",
       "filmeId                                                           \n",
       "1               Toy Story (1995)             1995.0    3.920930   \n",
       "2                 Jumanji (1995)             1995.0    3.431818   \n",
       "3        Grumpier Old Men (1995)             1995.0    3.259615   \n",
       "6                    Heat (1995)             1995.0    3.946078   \n",
       "7                 Sabrina (1995)             1995.0    3.185185   \n",
       "\n",
       "         total_de_votos  Action  Adventure  Animation  Children  Comedy  \\\n",
       "filmeId                                                                   \n",
       "1                 215.0       0          1          1         1       1   \n",
       "2                 110.0       0          1          0         1       0   \n",
       "3                  52.0       0          0          0         0       1   \n",
       "6                 102.0       1          0          0         0       0   \n",
       "7                  54.0       0          0          0         0       1   \n",
       "\n",
       "         Crime  ...  FilmNoir  Horror  IMAX  Musical  Mystery  Romance  SciFi  \\\n",
       "filmeId         ...                                                             \n",
       "1            0  ...         0       0     0        0        0        0      0   \n",
       "2            0  ...         0       0     0        0        0        0      0   \n",
       "3            0  ...         0       0     0        0        0        1      0   \n",
       "6            1  ...         0       0     0        0        0        0      0   \n",
       "7            0  ...         0       0     0        0        0        1      0   \n",
       "\n",
       "         Thriller  War  Western  \n",
       "filmeId                          \n",
       "1               0    0        0  \n",
       "2               0    0        0  \n",
       "3               0    0        0  \n",
       "6               1    0        0  \n",
       "7               0    0        0  \n",
       "\n",
       "[5 rows x 23 columns]"
      ]
     },
     "execution_count": 21,
     "metadata": {},
     "output_type": "execute_result"
    }
   ],
   "source": [
    "filmes = filmes.join(generos).drop(columns=['generos'], axis=1)\n",
    "filmes.head()"
   ]
  },
  {
   "cell_type": "markdown",
   "metadata": {},
   "source": [
    "## Pergunta: visualização de quantos filmes existem por genero\n",
    "\n",
    "- Para cada um dos generos você deve agrupar o número de filmes\n",
    "- Ordene as barras, na esquerda o genero com mais filmes, na direita o que tem menos filmes\n",
    "\n",
    "Dica:\n",
    "\n",
    "- Para fazer a soma de uma ou mais colunas individualmente você pode usar `seu_dataframe.sum()`\n",
    "- Não precisa usar o dataframe `filmes`, somente o dataframe `generos`\n",
    "- Em certas situações é mais fácil usar as funções de plotagem do pandas ao invés do seaborn"
   ]
  },
  {
   "cell_type": "code",
   "execution_count": 22,
   "metadata": {},
   "outputs": [
    {
     "data": {
      "text/plain": [
       "[Text(0, 0.5, 'Quantidade de filmes'), Text(0.5, 0, 'Gênero')]"
      ]
     },
     "execution_count": 22,
     "metadata": {},
     "output_type": "execute_result"
    },
    {
     "data": {
      "image/png": "[encoded data removed]",
      "text/plain": [
       "<Figure size 432x288 with 1 Axes>"
      ]
     },
     "metadata": {
      "needs_background": "light"
     },
     "output_type": "display_data"
    }
   ],
   "source": [
    "# solução\n",
    "qtd_genero = generos.sum()\n",
    "#qtd_genero\n",
    "qtd_genero_ordenado = qtd_genero.sort_values(ascending=False)\n",
    "ax = qtd_genero_ordenado.plot(kind = 'bar', title = 'Quantidade de filmes por gênero')\n",
    "ax.set(xlabel = 'Gênero', ylabel = 'Quantidade de filmes')"
   ]
  },
  {
   "cell_type": "markdown",
   "metadata": {},
   "source": [
    "## Pergunta: Quais são os 5 generos com mais filmes?\n",
    "\n",
    "Dica:\n",
    "\n",
    "- `sort_values()` pode ordenar uma Series do pandas"
   ]
  },
  {
   "cell_type": "code",
   "execution_count": 23,
   "metadata": {},
   "outputs": [],
   "source": [
    "# solução\n",
    "top5_generos_em_quantidade_de_filmes = qtd_genero_ordenado[0:5]"
   ]
  },
  {
   "cell_type": "code",
   "execution_count": 24,
   "metadata": {},
   "outputs": [
    {
     "name": "stdout",
     "output_type": "stream",
     "text": [
      "Comedy       181\n",
      "Drama        166\n",
      "Action       164\n",
      "Adventure    132\n",
      "Thriller     121\n",
      "dtype: int64\n"
     ]
    }
   ],
   "source": [
    "print(top5_generos_em_quantidade_de_filmes)"
   ]
  },
  {
   "cell_type": "markdown",
   "metadata": {},
   "source": [
    "## Pergunta: visualização de votos por genero\n",
    "\n",
    "- o código que gera os votos por genero já está pronto\n",
    "- ordene as categorias da mais visualizada para a menos visualizada\n",
    "- gere a visualização por genero"
   ]
  },
  {
   "cell_type": "code",
   "execution_count": 25,
   "metadata": {},
   "outputs": [
    {
     "data": {
      "text/html": [
       "<div>\n",
       "<style scoped>\n",
       "    .dataframe tbody tr th:only-of-type {\n",
       "        vertical-align: middle;\n",
       "    }\n",
       "\n",
       "    .dataframe tbody tr th {\n",
       "        vertical-align: top;\n",
       "    }\n",
       "\n",
       "    .dataframe thead th {\n",
       "        text-align: right;\n",
       "    }\n",
       "</style>\n",
       "<table border=\"1\" class=\"dataframe\">\n",
       "  <thead>\n",
       "    <tr style=\"text-align: right;\">\n",
       "      <th></th>\n",
       "      <th>Action</th>\n",
       "      <th>Adventure</th>\n",
       "      <th>Animation</th>\n",
       "      <th>Children</th>\n",
       "      <th>Comedy</th>\n",
       "      <th>Crime</th>\n",
       "      <th>Documentary</th>\n",
       "      <th>Drama</th>\n",
       "      <th>Fantasy</th>\n",
       "      <th>FilmNoir</th>\n",
       "      <th>Horror</th>\n",
       "      <th>IMAX</th>\n",
       "      <th>Musical</th>\n",
       "      <th>Mystery</th>\n",
       "      <th>Romance</th>\n",
       "      <th>SciFi</th>\n",
       "      <th>Thriller</th>\n",
       "      <th>War</th>\n",
       "      <th>Western</th>\n",
       "    </tr>\n",
       "  </thead>\n",
       "  <tbody>\n",
       "    <tr>\n",
       "      <th>0</th>\n",
       "      <td>0.0</td>\n",
       "      <td>215.0</td>\n",
       "      <td>215.0</td>\n",
       "      <td>215.0</td>\n",
       "      <td>215.0</td>\n",
       "      <td>0.0</td>\n",
       "      <td>0.0</td>\n",
       "      <td>0.0</td>\n",
       "      <td>215.0</td>\n",
       "      <td>0.0</td>\n",
       "      <td>0.0</td>\n",
       "      <td>0.0</td>\n",
       "      <td>0.0</td>\n",
       "      <td>0.0</td>\n",
       "      <td>0.0</td>\n",
       "      <td>0.0</td>\n",
       "      <td>0.0</td>\n",
       "      <td>0.0</td>\n",
       "      <td>0.0</td>\n",
       "    </tr>\n",
       "    <tr>\n",
       "      <th>1</th>\n",
       "      <td>0.0</td>\n",
       "      <td>110.0</td>\n",
       "      <td>0.0</td>\n",
       "      <td>110.0</td>\n",
       "      <td>0.0</td>\n",
       "      <td>0.0</td>\n",
       "      <td>0.0</td>\n",
       "      <td>0.0</td>\n",
       "      <td>110.0</td>\n",
       "      <td>0.0</td>\n",
       "      <td>0.0</td>\n",
       "      <td>0.0</td>\n",
       "      <td>0.0</td>\n",
       "      <td>0.0</td>\n",
       "      <td>0.0</td>\n",
       "      <td>0.0</td>\n",
       "      <td>0.0</td>\n",
       "      <td>0.0</td>\n",
       "      <td>0.0</td>\n",
       "    </tr>\n",
       "    <tr>\n",
       "      <th>2</th>\n",
       "      <td>0.0</td>\n",
       "      <td>0.0</td>\n",
       "      <td>0.0</td>\n",
       "      <td>0.0</td>\n",
       "      <td>52.0</td>\n",
       "      <td>0.0</td>\n",
       "      <td>0.0</td>\n",
       "      <td>0.0</td>\n",
       "      <td>0.0</td>\n",
       "      <td>0.0</td>\n",
       "      <td>0.0</td>\n",
       "      <td>0.0</td>\n",
       "      <td>0.0</td>\n",
       "      <td>0.0</td>\n",
       "      <td>52.0</td>\n",
       "      <td>0.0</td>\n",
       "      <td>0.0</td>\n",
       "      <td>0.0</td>\n",
       "      <td>0.0</td>\n",
       "    </tr>\n",
       "    <tr>\n",
       "      <th>3</th>\n",
       "      <td>102.0</td>\n",
       "      <td>0.0</td>\n",
       "      <td>0.0</td>\n",
       "      <td>0.0</td>\n",
       "      <td>0.0</td>\n",
       "      <td>102.0</td>\n",
       "      <td>0.0</td>\n",
       "      <td>0.0</td>\n",
       "      <td>0.0</td>\n",
       "      <td>0.0</td>\n",
       "      <td>0.0</td>\n",
       "      <td>0.0</td>\n",
       "      <td>0.0</td>\n",
       "      <td>0.0</td>\n",
       "      <td>0.0</td>\n",
       "      <td>0.0</td>\n",
       "      <td>102.0</td>\n",
       "      <td>0.0</td>\n",
       "      <td>0.0</td>\n",
       "    </tr>\n",
       "    <tr>\n",
       "      <th>4</th>\n",
       "      <td>0.0</td>\n",
       "      <td>0.0</td>\n",
       "      <td>0.0</td>\n",
       "      <td>0.0</td>\n",
       "      <td>54.0</td>\n",
       "      <td>0.0</td>\n",
       "      <td>0.0</td>\n",
       "      <td>0.0</td>\n",
       "      <td>0.0</td>\n",
       "      <td>0.0</td>\n",
       "      <td>0.0</td>\n",
       "      <td>0.0</td>\n",
       "      <td>0.0</td>\n",
       "      <td>0.0</td>\n",
       "      <td>54.0</td>\n",
       "      <td>0.0</td>\n",
       "      <td>0.0</td>\n",
       "      <td>0.0</td>\n",
       "      <td>0.0</td>\n",
       "    </tr>\n",
       "  </tbody>\n",
       "</table>\n",
       "</div>"
      ],
      "text/plain": [
       "   Action  Adventure  Animation  Children  Comedy  Crime  Documentary  Drama  \\\n",
       "0     0.0      215.0      215.0     215.0   215.0    0.0          0.0    0.0   \n",
       "1     0.0      110.0        0.0     110.0     0.0    0.0          0.0    0.0   \n",
       "2     0.0        0.0        0.0       0.0    52.0    0.0          0.0    0.0   \n",
       "3   102.0        0.0        0.0       0.0     0.0  102.0          0.0    0.0   \n",
       "4     0.0        0.0        0.0       0.0    54.0    0.0          0.0    0.0   \n",
       "\n",
       "   Fantasy  FilmNoir  Horror  IMAX  Musical  Mystery  Romance  SciFi  \\\n",
       "0    215.0       0.0     0.0   0.0      0.0      0.0      0.0    0.0   \n",
       "1    110.0       0.0     0.0   0.0      0.0      0.0      0.0    0.0   \n",
       "2      0.0       0.0     0.0   0.0      0.0      0.0     52.0    0.0   \n",
       "3      0.0       0.0     0.0   0.0      0.0      0.0      0.0    0.0   \n",
       "4      0.0       0.0     0.0   0.0      0.0      0.0     54.0    0.0   \n",
       "\n",
       "   Thriller  War  Western  \n",
       "0       0.0  0.0      0.0  \n",
       "1       0.0  0.0      0.0  \n",
       "2       0.0  0.0      0.0  \n",
       "3     102.0  0.0      0.0  \n",
       "4       0.0  0.0      0.0  "
      ]
     },
     "execution_count": 25,
     "metadata": {},
     "output_type": "execute_result"
    }
   ],
   "source": [
    "votos_por_genero_por_filme = pd.DataFrame((generos.values.T * filmes['total_de_votos'].values).T, columns = generos.columns)\n",
    "votos_por_genero_por_filme.head()"
   ]
  },
  {
   "cell_type": "code",
   "execution_count": 26,
   "metadata": {},
   "outputs": [
    {
     "data": {
      "text/plain": [
       "Action         15734.0\n",
       "Drama          15445.0\n",
       "Comedy         15330.0\n",
       "Adventure      13117.0\n",
       "Thriller       11907.0\n",
       "SciFi           8989.0\n",
       "Crime           8649.0\n",
       "Romance         7444.0\n",
       "Fantasy         5993.0\n",
       "Children        4331.0\n",
       "Mystery         3452.0\n",
       "Animation       3066.0\n",
       "IMAX            2492.0\n",
       "Horror          2215.0\n",
       "War             2113.0\n",
       "Musical         1822.0\n",
       "Western          900.0\n",
       "FilmNoir         291.0\n",
       "Documentary      108.0\n",
       "dtype: float64"
      ]
     },
     "execution_count": 26,
     "metadata": {},
     "output_type": "execute_result"
    }
   ],
   "source": [
    "# solucão\n",
    "votos_por_genero = votos_por_genero_por_filme.sum()\n",
    "votos_por_genero_ordenado = votos_por_genero.sort_values(ascending=False)\n",
    "votos_por_genero_ordenado"
   ]
  },
  {
   "cell_type": "code",
   "execution_count": 27,
   "metadata": {},
   "outputs": [
    {
     "data": {
      "text/plain": [
       "[Text(0, 0.5, 'Votos'), Text(0.5, 0, 'Gênero')]"
      ]
     },
     "execution_count": 27,
     "metadata": {},
     "output_type": "execute_result"
    },
    {
     "data": {
      "image/png": "[encoded data removed]",
      "text/plain": [
       "<Figure size 432x288 with 1 Axes>"
      ]
     },
     "metadata": {
      "needs_background": "light"
     },
     "output_type": "display_data"
    }
   ],
   "source": [
    "# solução\n",
    "ax = votos_por_genero_ordenado.plot(kind = 'bar', title = 'Votos por gênero')\n",
    "ax.set(xlabel = 'Gênero', ylabel = 'Votos')"
   ]
  },
  {
   "cell_type": "markdown",
   "metadata": {},
   "source": [
    "## Pergunta : votos por filme por genero\n",
    "\n",
    "Queremos entender a quantidade de votos em relação a quantidade de filmes existentes naquele genero.\n",
    "\n",
    "Por exemplo: \n",
    "- se temos 1000 votos de `Ação` e 10 filmes desse genero, foram 100 votos por filme nesse genero.\n",
    "- se o gênero `Documentário` tem 2 filmes e 500 votos, ele tem 250 votos por filme nesse gênero.\n",
    "\n",
    "Queremos entender isso, a \"popularidade\" média de um filme em cada categoria, isto é, o número de votos dividido pelo número de filmes, organizado para cada categoria.\n",
    "\n",
    "- Você já possui o número de votos por genero\n",
    "- Calcule o número de votos por genero dividido pelo total de filmes por genero\n",
    "- Ordene do maior para o menor\n",
    "- Plote um gráfico para visualizarmos esses dados"
   ]
  },
  {
   "cell_type": "code",
   "execution_count": 32,
   "metadata": {},
   "outputs": [
    {
     "data": {
      "text/plain": [
       "War            111.210526\n",
       "Crime           99.413793\n",
       "Adventure       99.371212\n",
       "Thriller        98.404959\n",
       "SciFi           97.706522\n",
       "Action          95.939024\n",
       "Animation       95.812500\n",
       "Drama           93.042169\n",
       "Children        92.148936\n",
       "Mystery         90.842105\n",
       "Fantasy         90.803030\n",
       "IMAX            89.000000\n",
       "Romance         87.576471\n",
       "Musical         86.761905\n",
       "Horror          85.192308\n",
       "Comedy          84.696133\n",
       "Western         75.000000\n",
       "FilmNoir        72.750000\n",
       "Documentary     54.000000\n",
       "dtype: float64"
      ]
     },
     "execution_count": 32,
     "metadata": {},
     "output_type": "execute_result"
    }
   ],
   "source": [
    "# solucao código\n",
    "votos_por_filme_por_genero = votos_por_genero / qtd_genero\n",
    "votos_por_filme_por_genero_ordenado = votos_por_filme_por_genero.sort_values(ascending=False)\n",
    "votos_por_filme_por_genero_ordenado"
   ]
  },
  {
   "cell_type": "code",
   "execution_count": 33,
   "metadata": {},
   "outputs": [
    {
     "data": {
      "text/plain": [
       "[Text(0, 0.5, 'Votos por filme'), Text(0.5, 0, 'Gênero')]"
      ]
     },
     "execution_count": 33,
     "metadata": {},
     "output_type": "execute_result"
    },
    {
     "data": {
      "image/png": "[encoded data removed]",
      "text/plain": [
       "<Figure size 432x288 with 1 Axes>"
      ]
     },
     "metadata": {
      "needs_background": "light"
     },
     "output_type": "display_data"
    }
   ],
   "source": [
    "# solução com visualização \n",
    "ax = votos_por_filme_por_genero_ordenado.plot(kind = 'bar', title = 'Votos por filme por gênero')\n",
    "ax.set(xlabel = 'Gênero', ylabel = 'Votos por filme')"
   ]
  },
  {
   "cell_type": "markdown",
   "metadata": {},
   "source": [
    "## Pergunta: Olhando as 3 últimas visualizações o que você conclui sobre os generos `Action` e `War`?"
   ]
  },
  {
   "cell_type": "markdown",
   "metadata": {},
   "source": [
    "### Solução (texto livre):\n",
    " O gênro Action tem muito mais filmes e muito mais votos que War. Todavia a relação de votos por filme de War é maior que o de Action.    \n",
    "    "
   ]
  },
  {
   "cell_type": "markdown",
   "metadata": {},
   "source": [
    "## Pergunta: Crie 2 boxplots no mesmo plot comparando a coluna `total_de_votos` dos filmes de categoria `Horror` e `Adventure`  \n",
    "\n",
    "Dica:\n",
    "\n",
    "- as vezes é mais fácil usar o boxplot do matplotlib ao invés do seaborn\n",
    "- plt.boxplot suporta o parâmetro labels com uma lista de nomes para cada boxplot plotado"
   ]
  },
  {
   "cell_type": "code",
   "execution_count": 66,
   "metadata": {},
   "outputs": [
    {
     "data": {
      "text/plain": [
       "Text(0.5, 1.0, 'Distribuição do total de votos de acordo com o gênero')"
      ]
     },
     "execution_count": 66,
     "metadata": {},
     "output_type": "execute_result"
    },
    {
     "data": {
      "image/png": "[encoded data removed]",
      "text/plain": [
       "<Figure size 432x288 with 1 Axes>"
      ]
     },
     "metadata": {
      "needs_background": "light"
     },
     "output_type": "display_data"
    }
   ],
   "source": [
    "# solução:\n",
    "import matplotlib.pyplot as plt\n",
    "plt.boxplot([filmes.query('Horror == 1').total_de_votos, filmes.query('Adventure == 1').total_de_votos], labels = ['Horror', 'Adventure'])\n",
    "plt.title(\"Distribuição do total de votos de acordo com o gênero\")"
   ]
  },
  {
   "cell_type": "markdown",
   "metadata": {},
   "source": [
    "## Pergunta: mostre agora um boxplot para cada uma das categorias\n",
    "\n",
    "Dica:\n",
    "- use generos.columns para acessar todos os gêneros\n",
    "- já removemos os hífens dos nomes das colunas quando criamos as colunas de gêneros\n",
    "- plt (pyplot) do matplotlib suporta a função xticks(rotation=90) para rotacionar os labels"
   ]
  },
  {
   "cell_type": "code",
   "execution_count": 44,
   "metadata": {},
   "outputs": [
    {
     "data": {
      "text/plain": [
       "Index(['Action', 'Adventure', 'Animation', 'Children', 'Comedy', 'Crime',\n",
       "       'Documentary', 'Drama', 'Fantasy', 'FilmNoir', 'Horror', 'IMAX',\n",
       "       'Musical', 'Mystery', 'Romance', 'SciFi', 'Thriller', 'War', 'Western'],\n",
       "      dtype='object')"
      ]
     },
     "execution_count": 44,
     "metadata": {},
     "output_type": "execute_result"
    }
   ],
   "source": [
    "generos.columns"
   ]
  },
  {
   "cell_type": "code",
   "execution_count": 57,
   "metadata": {},
   "outputs": [
    {
     "data": {
      "text/plain": [
       "Text(0.5, 1.0, 'Distribuição do total de votos de acordo com o gênero')"
      ]
     },
     "execution_count": 57,
     "metadata": {},
     "output_type": "execute_result"
    },
    {
     "data": {
      "image/png": "[encoded data removed]",
      "text/plain": [
       "<Figure size 432x288 with 1 Axes>"
      ]
     },
     "metadata": {
      "needs_background": "light"
     },
     "output_type": "display_data"
    }
   ],
   "source": [
    "plt.boxplot([filmes.query('Action == 1').total_de_votos, filmes.query('Adventure == 1').total_de_votos, filmes.query('Animation == 1').total_de_votos, filmes.query('Children == 1').total_de_votos, filmes.query('Comedy == 1').total_de_votos, filmes.query('Crime == 1').total_de_votos, filmes.query('Documentary == 1').total_de_votos, filmes.query('Drama == 1').total_de_votos, filmes.query('Fantasy == 1').total_de_votos, filmes.query('FilmNoir == 1').total_de_votos, filmes.query('Horror == 1').total_de_votos, filmes.query('IMAX == 1').total_de_votos, filmes.query('Musical == 1').total_de_votos, filmes.query('Mystery == 1').total_de_votos, filmes.query('Romance == 1').total_de_votos, filmes.query('SciFi == 1').total_de_votos, filmes.query('Thriller == 1').total_de_votos, filmes.query('War == 1').total_de_votos, filmes.query('Western == 1').total_de_votos], labels = generos.columns)\n",
    "plt.xticks(rotation=90)\n",
    "plt.title(\"Distribuição do total de votos de acordo com o gênero\")"
   ]
  },
  {
   "cell_type": "markdown",
   "metadata": {},
   "source": [
    "## Pergunta: desejo criar um filme com somente um dos gêneros: `Horror` ou `Adventure`. Quero ter uma chance maior de ter um faturamento que pague minhas contas, mesmo que não seja um super sucesso absurdo de vendas. Qual dos 2 gêneros você sugere?"
   ]
  },
  {
   "cell_type": "markdown",
   "metadata": {},
   "source": [
    "### Solução:\n",
    "Adventure\n"
   ]
  },
  {
   "cell_type": "markdown",
   "metadata": {},
   "source": [
    "## Pergunta: nossa análise foi até então visual. Aplique um teste estatístico para verificar se existe significância estatística na distribuição dos votos dos filmes de `Adventure` e `Horror`. Sua recomendação continua a mesma? Explique.\n",
    "\n",
    "Passos:\n",
    "\n",
    "- visualize a distribuição de ambas através de histogramas\n",
    "- se suspeitar normalidade na distribuição, faça um teste de normalidade para ambas\n",
    "- aplique um teste adequado de comparação das distribuições\n",
    "- explique o resultado encontrado\n",
    "- utilize p=0.05"
   ]
  },
  {
   "cell_type": "code",
   "execution_count": 71,
   "metadata": {},
   "outputs": [
    {
     "data": {
      "text/plain": [
       "Text(0.5, 1.0, 'Distribuição total de votos - Adventure')"
      ]
     },
     "execution_count": 71,
     "metadata": {},
     "output_type": "execute_result"
    },
    {
     "data": {
      "image/png": "[encoded data removed]",
      "text/plain": [
       "<Figure size 432x288 with 1 Axes>"
      ]
     },
     "metadata": {
      "needs_background": "light"
     },
     "output_type": "display_data"
    }
   ],
   "source": [
    "# solucao histograma de aventura\n",
    "ax = sns.distplot(filmes.query('Adventure == 1')['total_de_votos'])\n",
    "ax.set(xlabel = 'Total de votos', ylabel = 'Densidade')\n",
    "ax.set_title('Distribuição total de votos - Adventure')"
   ]
  },
  {
   "cell_type": "code",
   "execution_count": 72,
   "metadata": {},
   "outputs": [
    {
     "data": {
      "text/plain": [
       "Text(0.5, 1.0, 'Distribuição total de votos - Horror')"
      ]
     },
     "execution_count": 72,
     "metadata": {},
     "output_type": "execute_result"
    },
    {
     "data": {
      "image/png": "[encoded data removed]",
      "text/plain": [
       "<Figure size 432x288 with 1 Axes>"
      ]
     },
     "metadata": {
      "needs_background": "light"
     },
     "output_type": "display_data"
    }
   ],
   "source": [
    "# solucao histograma de horror\n",
    "ax = sns.distplot(filmes.query('Horror == 1')['total_de_votos'])\n",
    "ax.set(xlabel = 'Total de votos', ylabel = 'Densidade')\n",
    "ax.set_title('Distribuição total de votos - Horror')"
   ]
  },
  {
   "cell_type": "code",
   "execution_count": 76,
   "metadata": {},
   "outputs": [
    {
     "data": {
      "text/plain": [
       "5.987863006199139e-06"
      ]
     },
     "execution_count": 76,
     "metadata": {},
     "output_type": "execute_result"
    }
   ],
   "source": [
    "# solucao teste de normalidade ou justificativa para nao utiliza-lo\n",
    "from scipy.stats import normaltest\n",
    "stats, p = normaltest(filmes.query('Adventure == 1')['total_de_votos'])\n",
    "p #se p < 0.05 vamos descartar a hipotese nula, logo não vem de uma curva normal\n",
    "\n"
   ]
  },
  {
   "cell_type": "code",
   "execution_count": 62,
   "metadata": {},
   "outputs": [
    {
     "data": {
      "text/plain": [
       "0.04782366231999856"
      ]
     },
     "execution_count": 62,
     "metadata": {},
     "output_type": "execute_result"
    }
   ],
   "source": [
    "# solução com o teste desejado\n",
    "from scipy.stats import ranksums\n",
    "\n",
    "_, p = ranksums(filmes.query('Adventure == 1')['total_de_votos'], filmes.query('Horror == 1')['total_de_votos'])\n",
    "p"
   ]
  },
  {
   "cell_type": "markdown",
   "metadata": {},
   "source": [
    "### Solução (explique sua conclusão):\n",
    "p ~ 0,05 logo não há significância estatistica para recomendar um tipo Adventure ou Horror. \n"
   ]
  },
  {
   "cell_type": "markdown",
   "metadata": {},
   "source": [
    "## Pergunta: Faça os mesmos boxplots para as notas médias (`nota_media`) dos gêneros `Adventure` e `Horror`."
   ]
  },
  {
   "cell_type": "code",
   "execution_count": 65,
   "metadata": {},
   "outputs": [
    {
     "data": {
      "text/plain": [
       "Text(0.5, 1.0, 'Distribuição da nota média de acordo com o gênero')"
      ]
     },
     "execution_count": 65,
     "metadata": {},
     "output_type": "execute_result"
    },
    {
     "data": {
      "image/png": "[encoded data removed]",
      "text/plain": [
       "<Figure size 432x288 with 1 Axes>"
      ]
     },
     "metadata": {
      "needs_background": "light"
     },
     "output_type": "display_data"
    }
   ],
   "source": [
    "# solução:\n",
    "plt.boxplot([filmes.query('Horror == 1').nota_media, filmes.query('Adventure == 1').nota_media], labels = ['Horror', 'Adventure'])\n",
    "plt.title(\"Distribuição da nota média de acordo com o gênero\")"
   ]
  },
  {
   "cell_type": "markdown",
   "metadata": {},
   "source": [
    "## Pergunta: Quero fazer um filme que seja sucesso de crítica, com pessoas dando notas altas, mesmo que não tenha um número muito grande de pessoas assistindo. Qual gênero você recomenda se tenho que escolher somente um entre `Adventure` e `Horror`?"
   ]
  },
  {
   "cell_type": "markdown",
   "metadata": {},
   "source": [
    "### Solução:\n",
    "Horror\n"
   ]
  },
  {
   "cell_type": "markdown",
   "metadata": {},
   "source": [
    "## Pergunta: nossa análise foi até então visual. Aplique um teste estatístico para verificar se existe significância estatística na distribuição das notas dos filmes de `Adventure` e `Horror`.\n",
    "\n",
    "Passos:\n",
    "\n",
    "- visualize a distribuição de ambas através de histogramas\n",
    "- se suspeitar normalidade na distribuição, faça um teste de normalidade para ambas\n",
    "- aplique um teste adequado de comparação das distribuições\n",
    "- explique o resultado encontrado\n",
    "- utilize p=0.05"
   ]
  },
  {
   "cell_type": "code",
   "execution_count": 73,
   "metadata": {},
   "outputs": [
    {
     "data": {
      "text/plain": [
       "Text(0.5, 1.0, 'Distribuição da média dos votos - Adventure')"
      ]
     },
     "execution_count": 73,
     "metadata": {},
     "output_type": "execute_result"
    },
    {
     "data": {
      "image/png": "[encoded data removed]",
      "text/plain": [
       "<Figure size 432x288 with 1 Axes>"
      ]
     },
     "metadata": {
      "needs_background": "light"
     },
     "output_type": "display_data"
    }
   ],
   "source": [
    "# solucao histograma de aventura\n",
    "ax = sns.distplot(filmes.query('Adventure == 1')['nota_media'])\n",
    "ax.set(xlabel = 'Média dos votos', ylabel = 'Densidade')\n",
    "ax.set_title('Distribuição da média dos votos - Adventure')"
   ]
  },
  {
   "cell_type": "code",
   "execution_count": 77,
   "metadata": {},
   "outputs": [
    {
     "data": {
      "text/plain": [
       "Text(0.5, 1.0, 'Distribuição da média dos votos - Horror')"
      ]
     },
     "execution_count": 77,
     "metadata": {},
     "output_type": "execute_result"
    },
    {
     "data": {
      "image/png": "[encoded data removed]",
      "text/plain": [
       "<Figure size 432x288 with 1 Axes>"
      ]
     },
     "metadata": {
      "needs_background": "light"
     },
     "output_type": "display_data"
    }
   ],
   "source": [
    "# solucao histograma de horror\n",
    "ax = sns.distplot(filmes.query('Horror == 1')['nota_media'])\n",
    "ax.set(xlabel = 'Média dos votos', ylabel = 'Densidade')\n",
    "ax.set_title('Distribuição da média dos votos - Horror')"
   ]
  },
  {
   "cell_type": "code",
   "execution_count": 82,
   "metadata": {},
   "outputs": [
    {
     "data": {
      "text/plain": [
       "0.012835697582553224"
      ]
     },
     "execution_count": 82,
     "metadata": {},
     "output_type": "execute_result"
    }
   ],
   "source": [
    "# solucao teste de normalidade ou justificativa para nao utiliza-lo\n",
    "stats, p = normaltest(filmes.query('Adventure == 1')['nota_media'])\n",
    "p"
   ]
  },
  {
   "cell_type": "code",
   "execution_count": 83,
   "metadata": {},
   "outputs": [
    {
     "data": {
      "text/plain": [
       "0.8310397344212459"
      ]
     },
     "execution_count": 83,
     "metadata": {},
     "output_type": "execute_result"
    }
   ],
   "source": [
    "# solução com o teste desejado\n",
    "_, p = ranksums(filmes.query('Adventure == 1')['nota_media'], filmes.query('Horror == 1')['nota_media'])\n",
    "p"
   ]
  },
  {
   "cell_type": "markdown",
   "metadata": {},
   "source": [
    "## Sua recomendação para maior sucesso de crítica em nota alta entre `Horror` e `Adventure` continua a mesma? Explique.\n",
    "\n"
   ]
  },
  {
   "cell_type": "markdown",
   "metadata": {},
   "source": [
    "### Solução:\n",
    "Como p>0,05 não há significância estatistica para fazer a recomendação"
   ]
  },
  {
   "cell_type": "markdown",
   "metadata": {},
   "source": [
    "## Pergunta: Quero fazer um filme que seja primeiro sucesso de crítica, com pessoas dando notas altas. Em segundo lugar quero que seja popular (mais pessoas assistam). Com as informações visuais e estatísticas, supondo poder escolher somente um, qual dois 2 gêneros você recomenda agora? `Horror` ou `Adventure`?"
   ]
  },
  {
   "cell_type": "code",
   "execution_count": 84,
   "metadata": {},
   "outputs": [
    {
     "data": {
      "text/plain": [
       "count    26.000000\n",
       "mean      3.610527\n",
       "std       0.419267\n",
       "min       2.796875\n",
       "25%       3.346470\n",
       "50%       3.707704\n",
       "75%       3.972898\n",
       "max       4.161290\n",
       "Name: nota_media, dtype: float64"
      ]
     },
     "execution_count": 84,
     "metadata": {},
     "output_type": "execute_result"
    }
   ],
   "source": [
    "filmes.query('Horror == 1').nota_media.describe()"
   ]
  },
  {
   "cell_type": "code",
   "execution_count": 85,
   "metadata": {},
   "outputs": [
    {
     "data": {
      "text/plain": [
       "count    132.000000\n",
       "mean       3.615373\n",
       "std        0.392217\n",
       "min        2.645455\n",
       "25%        3.373580\n",
       "50%        3.693742\n",
       "75%        3.904919\n",
       "max        4.232394\n",
       "Name: nota_media, dtype: float64"
      ]
     },
     "execution_count": 85,
     "metadata": {},
     "output_type": "execute_result"
    }
   ],
   "source": [
    "filmes.query('Adventure == 1').nota_media.describe()"
   ]
  },
  {
   "cell_type": "markdown",
   "metadata": {},
   "source": [
    "### Solução:\n",
    "Adventure\n"
   ]
  },
  {
   "cell_type": "markdown",
   "metadata": {},
   "source": [
    "## Pergunta: Quais são os top 5 filmes dos 2 generos mais assistidas?\n",
    "\n",
    "- utilize os 2 generos mais votados em `votos_por_genero`\n",
    "- utilize a `nota_media` para definir o top 5 filmes\n",
    "- o resultado são 5, não 10 filmes"
   ]
  },
  {
   "cell_type": "code",
   "execution_count": 93,
   "metadata": {
    "collapsed": true
   },
   "outputs": [
    {
     "data": {
      "text/plain": [
       "Action         15734.0\n",
       "Adventure      13117.0\n",
       "Animation       3066.0\n",
       "Children        4331.0\n",
       "Comedy         15330.0\n",
       "Crime           8649.0\n",
       "Documentary      108.0\n",
       "Drama          15445.0\n",
       "Fantasy         5993.0\n",
       "FilmNoir         291.0\n",
       "Horror          2215.0\n",
       "IMAX            2492.0\n",
       "Musical         1822.0\n",
       "Mystery         3452.0\n",
       "Romance         7444.0\n",
       "SciFi           8989.0\n",
       "Thriller       11907.0\n",
       "War             2113.0\n",
       "Western          900.0\n",
       "dtype: float64"
      ]
     },
     "execution_count": 93,
     "metadata": {},
     "output_type": "execute_result"
    }
   ],
   "source": [
    "votos_por_genero"
   ]
  },
  {
   "cell_type": "code",
   "execution_count": 94,
   "metadata": {},
   "outputs": [
    {
     "data": {
      "text/plain": [
       "Action    15734.0\n",
       "Drama     15445.0\n",
       "dtype: float64"
      ]
     },
     "execution_count": 94,
     "metadata": {},
     "output_type": "execute_result"
    }
   ],
   "source": [
    "# solução: calculando os 2 generos mais votados\n",
    "votos_por_genero_ordenado[0:2]"
   ]
  },
  {
   "cell_type": "code",
   "execution_count": 139,
   "metadata": {},
   "outputs": [
    {
     "data": {
      "text/html": [
       "<div>\n",
       "<style scoped>\n",
       "    .dataframe tbody tr th:only-of-type {\n",
       "        vertical-align: middle;\n",
       "    }\n",
       "\n",
       "    .dataframe tbody tr th {\n",
       "        vertical-align: top;\n",
       "    }\n",
       "\n",
       "    .dataframe thead th {\n",
       "        text-align: right;\n",
       "    }\n",
       "</style>\n",
       "<table border=\"1\" class=\"dataframe\">\n",
       "  <thead>\n",
       "    <tr style=\"text-align: right;\">\n",
       "      <th></th>\n",
       "      <th>titulo</th>\n",
       "      <th>nota_media</th>\n",
       "      <th>total_de_votos</th>\n",
       "    </tr>\n",
       "    <tr>\n",
       "      <th>filmeId</th>\n",
       "      <th></th>\n",
       "      <th></th>\n",
       "      <th></th>\n",
       "    </tr>\n",
       "  </thead>\n",
       "  <tbody>\n",
       "    <tr>\n",
       "      <th>318</th>\n",
       "      <td>Shawshank Redemption, The (1994)</td>\n",
       "      <td>4.429022</td>\n",
       "      <td>317.0</td>\n",
       "    </tr>\n",
       "    <tr>\n",
       "      <th>858</th>\n",
       "      <td>Godfather, The (1972)</td>\n",
       "      <td>4.289062</td>\n",
       "      <td>192.0</td>\n",
       "    </tr>\n",
       "    <tr>\n",
       "      <th>1221</th>\n",
       "      <td>Godfather: Part II, The (1974)</td>\n",
       "      <td>4.259690</td>\n",
       "      <td>129.0</td>\n",
       "    </tr>\n",
       "    <tr>\n",
       "      <th>1276</th>\n",
       "      <td>Cool Hand Luke (1967)</td>\n",
       "      <td>4.271930</td>\n",
       "      <td>57.0</td>\n",
       "    </tr>\n",
       "    <tr>\n",
       "      <th>2959</th>\n",
       "      <td>Fight Club (1999)</td>\n",
       "      <td>4.272936</td>\n",
       "      <td>218.0</td>\n",
       "    </tr>\n",
       "  </tbody>\n",
       "</table>\n",
       "</div>"
      ],
      "text/plain": [
       "                                   titulo  nota_media  total_de_votos\n",
       "filmeId                                                              \n",
       "318      Shawshank Redemption, The (1994)    4.429022           317.0\n",
       "858                 Godfather, The (1972)    4.289062           192.0\n",
       "1221       Godfather: Part II, The (1974)    4.259690           129.0\n",
       "1276                Cool Hand Luke (1967)    4.271930            57.0\n",
       "2959                    Fight Club (1999)    4.272936           218.0"
      ]
     },
     "execution_count": 139,
     "metadata": {},
     "output_type": "execute_result"
    }
   ],
   "source": [
    "# solução: encontrando os top 5 filmes desses generos\n",
    "top_action = filmes.query('Action == 1').nota_media.sort_values(ascending=False)[0:5]\n",
    "top_Drama = filmes.query('Drama == 1').nota_media.sort_values(ascending=False)[0:5]\n",
    "top = top_action.append(top_Drama)\n",
    "selecao = filmes.index.isin(top.sort_values(ascending=False)[0:6].index)\n",
    "filmes_selecao = filmes[selecao]\n",
    "filmes_selecao[['titulo', 'nota_media', 'total_de_votos']]"
   ]
  },
  {
   "cell_type": "markdown",
   "metadata": {},
   "source": [
    "## Pergunta: Quais são os 2 generos com maior valor de correlação com a `nota_media`? E os 2 com menor valor de correlação com a `nota_media`?\n",
    "\n",
    "- O pandas possui a função `corr` para calcular correlação entre todas as colunas"
   ]
  },
  {
   "cell_type": "code",
   "execution_count": 153,
   "metadata": {},
   "outputs": [
    {
     "data": {
      "text/plain": [
       "nota_media        1.000000\n",
       "total_de_votos    0.342584\n",
       "Drama             0.277662\n",
       "Comedy            0.256005\n",
       "Crime             0.190220\n",
       "Name: nota_media, dtype: float64"
      ]
     },
     "execution_count": 153,
     "metadata": {},
     "output_type": "execute_result"
    }
   ],
   "source": [
    "# solucao\n",
    "abs(filmes.corr().nota_media).sort_values(ascending=False).head()\n",
    "\n",
    "# RESPOSTA: São os gêneros Drama e Comedy"
   ]
  },
  {
   "cell_type": "markdown",
   "metadata": {},
   "source": [
    "## Pergunta: Quais são os 2 generos com maior correlação com `total_de_votos`? E quais os 2 com menor correlação com `total_de_votos`?"
   ]
  },
  {
   "cell_type": "code",
   "execution_count": 159,
   "metadata": {},
   "outputs": [
    {
     "data": {
      "text/plain": [
       "total_de_votos    1.000000\n",
       "nota_media        0.342584\n",
       "Comedy            0.128527\n",
       "Adventure         0.104380\n",
       "War               0.087999\n",
       "Name: total_de_votos, dtype: float64"
      ]
     },
     "execution_count": 159,
     "metadata": {},
     "output_type": "execute_result"
    }
   ],
   "source": [
    "# solucao\n",
    "abs(filmes.corr().total_de_votos).sort_values(ascending=False).head()\n",
    "#abs(filmes.corr().total_de_votos).sort_values(ascending=True).head()\n",
    "\n",
    "# RESPOSTA: Os de maior correlação são Comedy e Adventure e os de menor correlação são Children e Mystery"
   ]
  },
  {
   "cell_type": "markdown",
   "metadata": {},
   "source": [
    "## Pergunta: Visualize graficamente o relacionamento entre ano de lançamento e nota média\n",
    "\n",
    "- Use o gráfico `lineplot`"
   ]
  },
  {
   "cell_type": "code",
   "execution_count": 180,
   "metadata": {},
   "outputs": [
    {
     "data": {
      "text/plain": [
       "Text(0.5, 1.0, 'Relacionamento entre ano de lançamento e nota média')"
      ]
     },
     "execution_count": 180,
     "metadata": {},
     "output_type": "execute_result"
    },
    {
     "data": {
      "image/png": "[encoded data removed]",
      "text/plain": [
       "<Figure size 432x288 with 1 Axes>"
      ]
     },
     "metadata": {
      "needs_background": "light"
     },
     "output_type": "display_data"
    }
   ],
   "source": [
    "# solucao\n",
    "ax = sns.lineplot(x = 'ano_de_lancamento', y = 'nota_media', data = filmes)\n",
    "ax.set(xlabel = 'Ano de lançamento', ylabel = 'Nota média')\n",
    "ax.set_title('Relacionamento entre ano de lançamento e nota média')"
   ]
  },
  {
   "cell_type": "markdown",
   "metadata": {},
   "source": [
    "## Pergunta: Interprete a correlação entre `ano_de_lancamento` e a `nota_media`?\n",
    "\n",
    "- Calcule a correlação numericamente (use o `corr` do pandas)\n",
    "- Correlação não implica causalidade, qual \"problema\" na coleta dos dados pode gerar esse tipo de correlação?"
   ]
  },
  {
   "cell_type": "code",
   "execution_count": 179,
   "metadata": {},
   "outputs": [
    {
     "data": {
      "text/plain": [
       "ano_de_lancamento   -0.159146\n",
       "Name: nota_media, dtype: float64"
      ]
     },
     "execution_count": 179,
     "metadata": {},
     "output_type": "execute_result"
    }
   ],
   "source": [
    "# solução (código)\n",
    "filmes.corr().nota_media[filmes.corr().index == 'ano_de_lancamento']"
   ]
  },
  {
   "cell_type": "markdown",
   "metadata": {},
   "source": [
    "### Solução (explicação)\n",
    "Possivelmente não houve uma diversificação (aleatoriedade) dos dados coletados. Deve ter havido uma concentração de dados coletados de determinados anos de lançamentos, maculando assim essa correlação.\n"
   ]
  },
  {
   "cell_type": "markdown",
   "metadata": {},
   "source": [
    "## Pergunta: analise um pairplot\n",
    "\n",
    "- crie uma variável chamada `infos` baseada nas colunas `ano_de_lancamento`, `nota_media` e `total_de_votos` de `filmes`\n",
    "- faça o pairplot usando seaborn\n",
    "- coloque uma regressão linear para cada pequeno plot dentro dele"
   ]
  },
  {
   "cell_type": "code",
   "execution_count": 188,
   "metadata": {},
   "outputs": [
    {
     "data": {
      "text/html": [
       "<div>\n",
       "<style scoped>\n",
       "    .dataframe tbody tr th:only-of-type {\n",
       "        vertical-align: middle;\n",
       "    }\n",
       "\n",
       "    .dataframe tbody tr th {\n",
       "        vertical-align: top;\n",
       "    }\n",
       "\n",
       "    .dataframe thead th {\n",
       "        text-align: right;\n",
       "    }\n",
       "</style>\n",
       "<table border=\"1\" class=\"dataframe\">\n",
       "  <thead>\n",
       "    <tr style=\"text-align: right;\">\n",
       "      <th></th>\n",
       "      <th>ano_de_lancamento</th>\n",
       "      <th>nota_media</th>\n",
       "      <th>total_de_votos</th>\n",
       "    </tr>\n",
       "    <tr>\n",
       "      <th>filmeId</th>\n",
       "      <th></th>\n",
       "      <th></th>\n",
       "      <th></th>\n",
       "    </tr>\n",
       "  </thead>\n",
       "  <tbody>\n",
       "    <tr>\n",
       "      <th>1</th>\n",
       "      <td>1995.0</td>\n",
       "      <td>3.920930</td>\n",
       "      <td>215.0</td>\n",
       "    </tr>\n",
       "    <tr>\n",
       "      <th>2</th>\n",
       "      <td>1995.0</td>\n",
       "      <td>3.431818</td>\n",
       "      <td>110.0</td>\n",
       "    </tr>\n",
       "    <tr>\n",
       "      <th>3</th>\n",
       "      <td>1995.0</td>\n",
       "      <td>3.259615</td>\n",
       "      <td>52.0</td>\n",
       "    </tr>\n",
       "    <tr>\n",
       "      <th>6</th>\n",
       "      <td>1995.0</td>\n",
       "      <td>3.946078</td>\n",
       "      <td>102.0</td>\n",
       "    </tr>\n",
       "    <tr>\n",
       "      <th>7</th>\n",
       "      <td>1995.0</td>\n",
       "      <td>3.185185</td>\n",
       "      <td>54.0</td>\n",
       "    </tr>\n",
       "  </tbody>\n",
       "</table>\n",
       "</div>"
      ],
      "text/plain": [
       "         ano_de_lancamento  nota_media  total_de_votos\n",
       "filmeId                                               \n",
       "1                   1995.0    3.920930           215.0\n",
       "2                   1995.0    3.431818           110.0\n",
       "3                   1995.0    3.259615            52.0\n",
       "6                   1995.0    3.946078           102.0\n",
       "7                   1995.0    3.185185            54.0"
      ]
     },
     "execution_count": 188,
     "metadata": {},
     "output_type": "execute_result"
    }
   ],
   "source": [
    "infos = filmes[[\"ano_de_lancamento\", \"nota_media\", \"total_de_votos\"]]\n",
    "infos.head()"
   ]
  },
  {
   "cell_type": "code",
   "execution_count": 191,
   "metadata": {},
   "outputs": [
    {
     "data": {
      "text/plain": [
       "<seaborn.axisgrid.PairGrid at 0x1b0d1c6b668>"
      ]
     },
     "execution_count": 191,
     "metadata": {},
     "output_type": "execute_result"
    },
    {
     "data": {
      "image/png": "[encoded data removed]",
      "text/plain": [
       "<Figure size 540x540 with 12 Axes>"
      ]
     },
     "metadata": {
      "needs_background": "light"
     },
     "output_type": "display_data"
    }
   ],
   "source": [
    "# solução\n",
    "ax = sns.pairplot(infos, kind = 'reg')\n",
    "ax.fig.suptitle('Dispersão entre as Variáveis infos', fontsize=20, y=1.05)\n",
    "ax"
   ]
  },
  {
   "cell_type": "markdown",
   "metadata": {},
   "source": [
    "## Pergunta: analise um pairplot dos filmes de `Animation`\n",
    "\n",
    "- use o dataframe `filmes`\n",
    "- em um único pairplot separe com cores distintas os filmes da categoria `Animation` dos outros\n",
    "- use uma palete como `husl`\n",
    "- use marcadores distintos para cada um dos dois grupos\n",
    "- faça o pairplot usando seaborn e coloque uma regressão linear para cada pequeno plot dentro dele\n",
    "- tanto em x quanto y use somente três variáveis: `total_de_votos`, `ano_de_lancamento`, `nota_media`"
   ]
  },
  {
   "cell_type": "code",
   "execution_count": 206,
   "metadata": {},
   "outputs": [
    {
     "data": {
      "text/html": [
       "<div>\n",
       "<style scoped>\n",
       "    .dataframe tbody tr th:only-of-type {\n",
       "        vertical-align: middle;\n",
       "    }\n",
       "\n",
       "    .dataframe tbody tr th {\n",
       "        vertical-align: top;\n",
       "    }\n",
       "\n",
       "    .dataframe thead th {\n",
       "        text-align: right;\n",
       "    }\n",
       "</style>\n",
       "<table border=\"1\" class=\"dataframe\">\n",
       "  <thead>\n",
       "    <tr style=\"text-align: right;\">\n",
       "      <th></th>\n",
       "      <th>ano_de_lancamento</th>\n",
       "      <th>nota_media</th>\n",
       "      <th>total_de_votos</th>\n",
       "    </tr>\n",
       "    <tr>\n",
       "      <th>filmeId</th>\n",
       "      <th></th>\n",
       "      <th></th>\n",
       "      <th></th>\n",
       "    </tr>\n",
       "  </thead>\n",
       "  <tbody>\n",
       "    <tr>\n",
       "      <th>1</th>\n",
       "      <td>1995.0</td>\n",
       "      <td>3.920930</td>\n",
       "      <td>215.0</td>\n",
       "    </tr>\n",
       "    <tr>\n",
       "      <th>48</th>\n",
       "      <td>1995.0</td>\n",
       "      <td>3.147059</td>\n",
       "      <td>68.0</td>\n",
       "    </tr>\n",
       "    <tr>\n",
       "      <th>364</th>\n",
       "      <td>1994.0</td>\n",
       "      <td>3.941860</td>\n",
       "      <td>172.0</td>\n",
       "    </tr>\n",
       "    <tr>\n",
       "      <th>551</th>\n",
       "      <td>1993.0</td>\n",
       "      <td>3.553763</td>\n",
       "      <td>93.0</td>\n",
       "    </tr>\n",
       "    <tr>\n",
       "      <th>588</th>\n",
       "      <td>1992.0</td>\n",
       "      <td>3.792350</td>\n",
       "      <td>183.0</td>\n",
       "    </tr>\n",
       "  </tbody>\n",
       "</table>\n",
       "</div>"
      ],
      "text/plain": [
       "         ano_de_lancamento  nota_media  total_de_votos\n",
       "filmeId                                               \n",
       "1                   1995.0    3.920930           215.0\n",
       "48                  1995.0    3.147059            68.0\n",
       "364                 1994.0    3.941860           172.0\n",
       "551                 1993.0    3.553763            93.0\n",
       "588                 1992.0    3.792350           183.0"
      ]
     },
     "execution_count": 206,
     "metadata": {},
     "output_type": "execute_result"
    }
   ],
   "source": [
    "infos_animations = filmes.query('Animation == 1')[[\"ano_de_lancamento\", \"nota_media\", \"total_de_votos\"]]\n",
    "infos_animations.head()"
   ]
  },
  {
   "cell_type": "code",
   "execution_count": 207,
   "metadata": {},
   "outputs": [
    {
     "data": {
      "text/plain": [
       "<seaborn.axisgrid.PairGrid at 0x1b0d7803fd0>"
      ]
     },
     "execution_count": 207,
     "metadata": {},
     "output_type": "execute_result"
    },
    {
     "data": {
      "image/png": "[encoded data removed]",
      "text/plain": [
       "<Figure size 540x540 with 12 Axes>"
      ]
     },
     "metadata": {
      "needs_background": "light"
     },
     "output_type": "display_data"
    }
   ],
   "source": [
    "# solução\n",
    "ax = sns.pairplot(infos_animations, kind = 'reg', palette = 'husl', markers=\"+\")\n",
    "ax.fig.suptitle('Dispersão entre as Variáveis infos dos filmes do gênero Animation', fontsize=20, y=1.05)\n",
    "ax"
   ]
  },
  {
   "cell_type": "markdown",
   "metadata": {},
   "source": [
    "## Pergunta: Analise a regressão em relação ao ano de lançamento.\n",
    "\n",
    "- Como parece se comportar a `nota_media` de filmes de `Animation` mais antigos e mais recentes? (ano_de_lancamento x nota_media). Essa correlação parece ser baixa, mas parece ser linear?\n",
    "- E o `ano_de_lancamento` x `total_de_votos`?\n",
    "- E das outras categorias? Compare isso com os outros filmes.\n",
    "- O que leva você levantar como hipótese para esse resultado?"
   ]
  },
  {
   "cell_type": "markdown",
   "metadata": {},
   "source": [
    "### Solução:\n",
    "A correlação entre a nota_media e o ano_de_lançamento de filmes Animation também parece linear para os filmes mais antigos. Apesar de se ter menos dados disponíveis, percebe-se uma linearidade nesses dados.\n",
    "\n",
    "Sobre a correlação entre o ano_de_lançamento e o total_de_votos, o comportamento segue a mesma tendendia da descrita no paragrafo anterior. Tem-se menos dados disponiveis sobre os filmes com data de laçamento mais antigos, todavia, pode-se observar uma linearidade nessa relação.\n",
    "\n",
    "Esse comportamento é semelhante para os outros filmes.\n",
    "\n",
    "Percebe-se que a dispersão nos dados referentes aos filmes com data de lançamento mais antigos é bem menor que a dispersão dos filmes com data de lançamento mais recente. Apesar da escasses de dados referentes aos filmes com data de lançamento mais antigos, é possivel perceber uma linearidade nessas relações."
   ]
  },
  {
   "cell_type": "markdown",
   "metadata": {},
   "source": [
    "## Pergunta: Explore\n",
    "\n",
    "- compartilhe conosco 2 visualizações extras que julgar interessante\n",
    "- explique o que encontrou\n",
    "- use quantas células (texto ou código) julgar necessário"
   ]
  },
  {
   "cell_type": "code",
   "execution_count": 209,
   "metadata": {},
   "outputs": [
    {
     "data": {
      "text/plain": [
       "Text(0.5, 1.0, 'Distribuição da média das notas de acordo com o gênero')"
      ]
     },
     "execution_count": 209,
     "metadata": {},
     "output_type": "execute_result"
    },
    {
     "data": {
      "image/png": "[encoded data removed]",
      "text/plain": [
       "<Figure size 432x288 with 1 Axes>"
      ]
     },
     "metadata": {
      "needs_background": "light"
     },
     "output_type": "display_data"
    }
   ],
   "source": [
    "# solução\n",
    "plt.boxplot([filmes.query('Action == 1').nota_media, filmes.query('Adventure == 1').nota_media, filmes.query('Animation == 1').nota_media, filmes.query('Children == 1').nota_media, filmes.query('Comedy == 1').nota_media, filmes.query('Crime == 1').nota_media, filmes.query('Documentary == 1').nota_media, filmes.query('Drama == 1').nota_media, filmes.query('Fantasy == 1').nota_media, filmes.query('FilmNoir == 1').nota_media, filmes.query('Horror == 1').nota_media, filmes.query('IMAX == 1').nota_media, filmes.query('Musical == 1').nota_media, filmes.query('Mystery == 1').nota_media, filmes.query('Romance == 1').nota_media, filmes.query('SciFi == 1').nota_media, filmes.query('Thriller == 1').nota_media, filmes.query('War == 1').nota_media, filmes.query('Western == 1').nota_media], labels = generos.columns)\n",
    "plt.xticks(rotation=90)\n",
    "plt.title(\"Distribuição da média das notas de acordo com o gênero\")"
   ]
  },
  {
   "cell_type": "code",
   "execution_count": 242,
   "metadata": {},
   "outputs": [
    {
     "data": {
      "text/plain": [
       "Text(0.5, 1.0, 'Distribuição das notas dos 5 filmes mais bem votados entre os gêneros de Ação e Drama')"
      ]
     },
     "execution_count": 242,
     "metadata": {},
     "output_type": "execute_result"
    },
    {
     "data": {
      "image/png": "[encoded data removed]",
      "text/plain": [
       "<Figure size 432x288 with 1 Axes>"
      ]
     },
     "metadata": {
      "needs_background": "light"
     },
     "output_type": "display_data"
    }
   ],
   "source": [
    "plt.boxplot([notas.query('filmeId == 318').nota, notas.query('filmeId == 858').nota, notas.query('filmeId == 1221').nota, notas.query('filmeId == 1276').nota, notas.query('filmeId == 2959').nota], labels=[\"Shawshank Redemption, The (1994)\", \"Godfather, The (1972)\", \"Godfather: Part II, The (1974)\", \"Cool Hand Luke (1967)\", \"Fight Club (1999)\"])\n",
    "plt.xticks(rotation=90)\n",
    "plt.title(\"Distribuição das notas dos 5 filmes mais bem votados entre os gêneros de Ação e Drama\")"
   ]
  },
  {
   "cell_type": "markdown",
   "metadata": {},
   "source": [
    "Verifica-se uma alta dispersão entre as notas quando analisamos em função do gênero. Todavia, mesmo com essa alta dispersão percebe-se que uma tendencia da população dar notas acima de 2,5.\n",
    "Quando se verifica apenas os filmes mais bem avaliados (no exemplo acima foram analisados os 5 filmes mais bem avaliados dos gêneros de Ação e Drama) é perceptível a elevadíssima distribuição das notas, onde as notas dadas se concentram na faixa entre 4 e 5."
   ]
  }
 ],
 "metadata": {
  "kernelspec": {
   "display_name": "Python 3",
   "language": "python",
   "name": "python3"
  },
  "language_info": {
   "codemirror_mode": {
    "name": "ipython",
    "version": 3
   },
   "file_extension": ".py",
   "mimetype": "text/x-python",
   "name": "python",
   "nbconvert_exporter": "python",
   "pygments_lexer": "ipython3",
   "version": "3.7.1"
  }
 },
 "nbformat": 4,
 "nbformat_minor": 2
}
